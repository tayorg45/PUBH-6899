{
 "cells": [
  {
   "cell_type": "markdown",
   "id": "d0eb7fa8",
   "metadata": {},
   "source": [
    "## Tracking Healthcare Prices Against Inflation: A Time Series Analysis of U.S. Prescription Drugs, Hospital Services, and Physician Services"
   ]
  },
  {
   "cell_type": "markdown",
   "id": "d44b1881",
   "metadata": {},
   "source": [
    "> Taylor Gorak <br>\n",
    "> PUBH 6899: Final Project\n"
   ]
  },
  {
   "cell_type": "markdown",
   "id": "89d36100",
   "metadata": {},
   "source": [
    "## Abstract"
   ]
  },
  {
   "cell_type": "markdown",
   "id": "a486095d",
   "metadata": {},
   "source": [
    "...."
   ]
  },
  {
   "cell_type": "markdown",
   "id": "78efcc2c",
   "metadata": {},
   "source": [
    "## Introduction"
   ]
  },
  {
   "cell_type": "markdown",
   "id": "65553c20",
   "metadata": {},
   "source": [
    "Healthcare spending in the United States is a major concern for policymakers, researchers, and consumers, with prices for prescription drugs, hospital services, and physician care frequently drawing scrutiny for their role in rising expenditures. Understanding how these healthcare sector prices have changed over time, particularly in comparison to overall inflation, offers important insights into affordability, accessibility, and the economic pressures faced by the health system. This project employs time series analysis to examine trends in prescription drug prices, hospital service fees, and physician charges, exploring their evolution relative to the general rate of inflation in the U.S. economy. By tracing these patterns, the analysis aims to inform ongoing debates about cost containment, resource allocation, and equity in American healthcare."
   ]
  },
  {
   "cell_type": "markdown",
   "id": "117f6964",
   "metadata": {},
   "source": [
    "## Literature Review"
   ]
  },
  {
   "cell_type": "markdown",
   "id": "1e3b9617",
   "metadata": {},
   "source": [
    "Recent scholarship has investigated the relationship between healthcare price trends and general inflation in the United States, with particular attention to prescription drugs, hospital services, and physician service costs. Academic research consistently finds that prescription drug prices have outpaced overall inflation, especially for high-cost specialty medications. For instance, work by Rajkumar (2020) demonstrates that annual growth rates for U.S. prescription drug spending range from 3–6%, with cancer drug prices rising by over 10% per year—often exceeding inflation due to repeated price increases on established drugs such as insulin. Barriers to value-based pricing and Medicare negotiation have been identified as central factors driving these trends.\n",
    "\n",
    "In examining targeted oral anticancer drugs, Shih et al. (2017) report that while the general prescription drug consumer price index grew at 3% annually between 2007 and 2012, the mean prices for these specialized drugs rose nearly 12% each year, creating substantial financial strain for affected patients. Although some policy interventions have helped reduce out-of-pocket costs for certain populations, rapid price escalation remains a crucial concern.\n",
    "\n",
    "Methodological approaches to measuring healthcare price inflation have also been subject to rigorous analysis. Dunn et al. (2018) recommend selecting price indices carefully to account for medical expenditures, advocating use of the Personal Health Care index or PCE health-by-function index for aggregate spending, while CPI medical care is appropriate for out-of-pocket estimates. No single index fully captures the complexity of healthcare inflation, and methodological variation can create significant disparities in reported findings. Building on this, Mattingly et al. (2023) highlight that traditional indices may understate the impact of high-priced drug launches, and stress the need for adjustments based on prescription duration and rebates, arguing that new index methodologies are necessary to inform policy solutions like the Inflation Reduction Act.\n",
    "\n",
    "Although much of the literature centers on prescription drugs, broader analyses reveal that hospital and physician service prices have also increased, contributing to overall healthcare spending growth. Schumock et al. (2017, 2023) find that pharmaceutical expenditures in hospitals and clinics outpace general inflation, with cost increases stemming from both utilization and higher prices for existing therapies. Hospital and physician service prices have risen, albeit typically at a slower rate compared to pharmaceuticals, adding to cumulative cost pressures.\n",
    "\n",
    "From a policy and economic standpoint, researchers such as Wagner et al. (2024) argue that inflation adjustment is vital when interpreting drug spending trends, as unadjusted figures can overstate nominal increases. Recent legislative efforts—including the Inflation Reduction Act’s introduction of inflation penalties and rebates—seek to restrain price growth, though analysts emphasize these measures may only partially address persistent cost escalation within the broader healthcare sector (Dickson, 2020; Reitsma et al., 2025)."
   ]
  },
  {
   "cell_type": "markdown",
   "id": "e4cc0620",
   "metadata": {},
   "source": [
    "## References"
   ]
  },
  {
   "cell_type": "markdown",
   "id": "695e6bcc",
   "metadata": {},
   "source": [
    "- Dickson, S. (2020). Association between the percentage of US drug sales subject to inflation penalties and the extent of drug price increases. *JAMA Network Open, 3*, e2016388. [https://doi.org/10.1001/jamanetworkopen.2020.16388](https://doi.org/10.1001/jamanetworkopen.2020.16388)\n",
    "- Dunn, A., Grosse, S., & Zuvekas, S. (2018). Adjusting health expenditures for inflation: A review of measures for health services research in the United States. *Health Services Research, 53*, 175–196. [https://doi.org/10.1111/1475-6773.12612](https://doi.org/10.1111/1475-6773.12612)\n",
    "- Mattingly, T. J. II, Anderson, G. F., Levy, J. F., & Mattingly, L. (2023). Comparison of price index methods and drug price inflation estimates for hepatitis C virus medications. *JAMA Health Forum, 4*. [https://doi.org/10.1001/jamahealthforum.2023.1317](https://doi.org/10.1001/jamahealthforum.2023.1317)\n",
    "- Rajkumar, V. (2020). The high cost of prescription drugs: Causes and solutions. *Blood Cancer Journal, 10*, 33. [https://doi.org/10.1038/s41408-020-0338-x](https://doi.org/10.1038/s41408-020-0338-x)\n",
    "- Reitsma, M., Dusetzina, S., Ballreich, J., Trujillo, A., & Mello, M. (2025). Estimated savings from extending prescription drug inflationary rebates to all commercial plans. *Health Affairs, 44*(3), 256–264. [https://doi.org/10.1377/hlthaff.2024.00724](https://doi.org/10.1377/hlthaff.2024.00724)\n",
    "- Schumock, G., Li, E., Wiest, M., Suda, K., Stubbings, J., Matusiak, L., Hunkler, R., & Vermeulen, L. (2017). National trends in prescription drug expenditures and projections for 2017. *American Journal of Health-System Pharmacy, 74*(15), 1158–1173. [https://doi.org/10.2146/ajhp170164](https://doi.org/10.2146/ajhp170164)\n",
    "- Shih, Y., Xu, Y., Liu, L., & Smieliauskas, F. (2017). Rising prices of targeted oral anticancer medications and associated financial burden on Medicare beneficiaries. *Journal of Clinical Oncology, 35*(22), 2482–2489. [https://doi.org/10.1200/JCO.2017.72.3742](https://doi.org/10.1200/JCO.2017.72.3742)\n",
    "- Tichy, E., Hoffman, J., Tadrous, M., Rim, M., Suda, K., Cuéllar, S., Clark, J., Newell, M., & Schumock, G. (2023). National trends in prescription drug expenditures and projections for 2023. *American Journal of Health-System Pharmacy*. [https://doi.org/10.1093/ajhp/zxad086](https://doi.org/10.1093/ajhp/zxad086)\n",
    "- Wagner, T., Westrich, K., Nordyke, R., & Campbell, J. (2024). Inflation-adjusted analysis of ICER’s unsupported price increase reports: Contextualizing drug spending changes. *Journal of Medical Economics, 27*, 1537–1541. [https://doi.org/10.1080/13696998.2024.2428109](https://doi.org/10.1080/13696998.2024.2428109)"
   ]
  }
 ],
 "metadata": {
  "language_info": {
   "name": "python"
  }
 },
 "nbformat": 4,
 "nbformat_minor": 5
}

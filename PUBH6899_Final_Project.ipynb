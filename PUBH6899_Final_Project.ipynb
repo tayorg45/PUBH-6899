{
 "cells": [
  {
   "cell_type": "markdown",
   "id": "d0eb7fa8",
   "metadata": {},
   "source": [
    "## Tracking Healthcare Prices Against Inflation: A Time Series Analysis of U.S. Prescription Drugs, Hospital Services, and Physician Services"
   ]
  },
  {
   "cell_type": "markdown",
   "id": "d44b1881",
   "metadata": {},
   "source": [
    "> Taylor Gorak <br>\n",
    "> PUBH 6899: Final Project\n"
   ]
  },
  {
   "cell_type": "markdown",
   "id": "89d36100",
   "metadata": {},
   "source": [
    "## Abstract"
   ]
  },
  {
   "cell_type": "markdown",
   "id": "a486095d",
   "metadata": {},
   "source": [
    "...."
   ]
  },
  {
   "cell_type": "markdown",
   "id": "78efcc2c",
   "metadata": {},
   "source": [
    "## Introduction"
   ]
  },
  {
   "cell_type": "markdown",
   "id": "65553c20",
   "metadata": {},
   "source": [
    "Healthcare spending in the United States has steadily increased, placing pressure on both household budgets and the national economy. Prices for prescription drugs, hospital services, and physician care have been a key driver of this trend, often rising faster than many other goods and services. Understanding how these costs change over time — and how they compare to overall inflation — is critical for evaluating the affordability of care, the sustainability of the healthcare system, and the financial challenges faced by families.\n",
    "\n",
    "This project represents an exploratory analysis using time series methods to track price trends in prescription drugs, hospital fees, and physician charges, comparing each to the general inflation rate in the U.S. economy. The goal is to explore patterns in the data and practice modeling techniques to illustrate how healthcare costs evolve relative to general inflation, rather than to produce definitive causal conclusions. By examining these trends, the study aims to provide insights that contribute to broader discussions on cost containment and healthcare spending dynamics."
   ]
  },
  {
   "cell_type": "markdown",
   "id": "117f6964",
   "metadata": {},
   "source": [
    "## Literature Review"
   ]
  },
  {
   "cell_type": "markdown",
   "id": "1e3b9617",
   "metadata": {},
   "source": [
    "Recent scholarship has investigated the relationship between healthcare price trends and general inflation in the United States, with particular attention to prescription drugs, hospital services, and physician service costs. Academic research consistently finds that prescription drug prices have outpaced overall inflation, especially for high-cost specialty medications. For instance, work by Rajkumar (2020) demonstrates that annual growth rates for U.S. prescription drug spending range from 3–6%, with cancer drug prices rising by over 10% per year—often exceeding inflation due to repeated price increases on established drugs such as insulin. Barriers to value-based pricing and Medicare negotiation have been identified as central factors driving these trends.\n",
    "\n",
    "In examining targeted oral anticancer drugs, Shih et al. (2017) report that while the general prescription drug consumer price index grew at 3% annually between 2007 and 2012, the mean prices for these specialized drugs rose nearly 12% each year, creating substantial financial strain for affected patients. Although some policy interventions have helped reduce out-of-pocket costs for certain populations, rapid price escalation remains a crucial concern.\n",
    "\n",
    "Methodological approaches to measuring healthcare price inflation have also been subject to rigorous analysis. Dunn et al. (2018) recommend selecting price indices carefully to account for medical expenditures, advocating use of the Personal Health Care index or PCE health-by-function index for aggregate spending, while CPI medical care is appropriate for out-of-pocket estimates. No single index fully captures the complexity of healthcare inflation, and methodological variation can create significant disparities in reported findings. Building on this, Mattingly et al. (2023) highlight that traditional indices may understate the impact of high-priced drug launches, and stress the need for adjustments based on prescription duration and rebates, arguing that new index methodologies are necessary to inform policy solutions like the Inflation Reduction Act.\n",
    "\n",
    "Although much of the literature centers on prescription drugs, broader analyses reveal that hospital and physician service prices have also increased, contributing to overall healthcare spending growth. Schumock et al. (2017, 2023) find that pharmaceutical expenditures in hospitals and clinics outpace general inflation, with cost increases stemming from both utilization and higher prices for existing therapies. Hospital and physician service prices have risen, albeit typically at a slower rate compared to pharmaceuticals, adding to cumulative cost pressures.\n",
    "\n",
    "From a policy and economic standpoint, researchers such as Wagner et al. (2024) argue that inflation adjustment is vital when interpreting drug spending trends, as unadjusted figures can overstate nominal increases. Recent legislative efforts—including the Inflation Reduction Act’s introduction of inflation penalties and rebates—seek to restrain price growth, though analysts emphasize these measures may only partially address persistent cost escalation within the broader healthcare sector (Dickson, 2020; Reitsma et al., 2025)."
   ]
  },
  {
   "cell_type": "markdown",
   "id": "8a0bdad2",
   "metadata": {},
   "source": [
    "## Data"
   ]
  },
  {
   "cell_type": "markdown",
   "id": "a8e2592e",
   "metadata": {},
   "source": [
    "This project is primarily an exploratory analysis aimed at examining and understanding healthcare price data through descriptive and time series methods. Rather than testing formal hypotheses or drawing definitive causal conclusions, the focus is on exploring patterns, trends, and characteristics within the data to provide initial insights and practice modeling techniques. This approach helps evaluate data quality, identify seasonal behaviors, and inform future, more detailed research.\n",
    "\n",
    "All four time series used in this project were obtained from the Federal Reserve Economic Data (FRED) database, which compiles economic and financial indicators from numerous U.S. government sources. The series analyzed here originate from the U.S. Bureau of Labor Statistics (BLS) Consumer Price Index (CPI) and Producer Price Index (PPI) programs. Each series is measured monthly, ensuring a consistent frequency and sufficient length for time series analysis. To avoid the volatility surrounding the 2008 recession and the COVID-19 period, the analysis focuses on data from 2009 through 2019.\n",
    "\n",
    "**Series selected for analysis:**\n",
    "\n",
    "1. **Prescription Drugs PPI** (FRED Code: WPUSI07003)  \n",
    "   Measures the average change in prices received by domestic producers for prescription drug products.\n",
    "\n",
    "2. **Hospital Services CPI** (FRED Code: CUUR0000SEMD)  \n",
    "   Measures price changes for hospital services paid by urban consumers.\n",
    "\n",
    "3. **Physician Services CPI** (FRED Code: CUUR0000SEMC)  \n",
    "   Measures price changes for physician services in urban areas.\n",
    "\n",
    "4. **Overall CPI (All Urban Consumers)** (FRED Code: CPIAUCSL)  \n",
    "   Represents the general inflation rate for all urban consumers and serves as a benchmark for comparison with healthcare sector prices.\n",
    "\n",
    "**Rationale for data selection:**  \n",
    "All series are monthly and span multiple decades, providing more than 100 observations each. Because they are CPI or PPI measures, they share a comparable structure and scale, reflecting relative price changes rather than nominal price levels. These shared features make the series suitable for cross-sector comparisons and assessing how healthcare-specific prices have evolved relative to the overall inflation rate.\n",
    "\n",
    "**Data collection and construction:**  \n",
    "The BLS collects CPI data through surveys of retail establishments and service providers across the United States, using in-person, telephone, and online methods to capture prices actually paid by consumers. The PPI series, by contrast, reflects prices received by producers and is based on surveys of businesses. Both indices are designed to track average price movements over time for a fixed basket of goods and services.\n",
    "\n",
    "**Data limitations:**  \n",
    "Although the CPI and PPI are widely used and standardized, there are several limitations. Some monthly values are imputed when prices are unavailable, and both indices are subject to sampling error and potential measurement bias. The BLS periodically updates spending weights and sampling frames to reflect changing consumption patterns, which can introduce subtle breaks in long-run comparability. Additionally, neither index perfectly captures price variation experienced by specific populations or regions.\n",
    "\n",
    "**Adjustments and transformations:**  \n",
    "This project uses non-seasonally adjusted monthly index values to allow consistent handling of trends and patterns. Seasonal adjustments, if necessary, will be performed during analysis to maintain transparency in data processing. Index values are expressed relative to a standardized base period (1982–1984 = 100), ensuring comparability across all four series. Maintaining raw index data allows for flexibility in subsequent transformations, such as computing year-over-year percentage changes or applying log differences when modeling inflation dynamics.\n",
    "\n"
   ]
  },
  {
   "cell_type": "markdown",
   "id": "e1bcad75",
   "metadata": {},
   "source": [
    "## Methods"
   ]
  },
  {
   "cell_type": "markdown",
   "id": "558db01b",
   "metadata": {},
   "source": [
    "The first step in time series analysis is to assess whether each data series is stationary, which means its statistical properties do not change over time. Stationarity is important because most time series models assume it to make reliable forecasts and interpretations.\n",
    "\n",
    "**Stationarity types:**\n",
    "\n",
    "- **Weak stationarity** requires three conditions for every time point $t$:\n",
    "  1. Constant mean: $E[y_t] = \\mu$ for all $t$.\n",
    "  2. Constant variance: $Var(y_t) = \\sigma^2$ for all $t$.\n",
    "  3. Constant autocovariance depending only on lag $l$: $Cov(y_t, y_{t-l}) = \\gamma(l)$.\n",
    "\n",
    "  Intuitively, the series \"hovers\" around a fixed mean, with stable variability, and the relationship between values depends only on how far apart they are, not when they occur.\n",
    "\n",
    "- **Strict stationarity** is a stronger condition where the entire joint distribution of any collection of observations remains the same when shifted in time. Formally, for any set of time points $t_1, \\dots, t_k$ and any $h$, the joint distribution satisfies\n",
    " $$F(y_{t_1}, \\ldots, y_{t_k}) = F(y_{t_1+h}, \\ldots, y_{t_k+h}).$$\n",
    "\n",
    "  This means the process behaves statistically identically throughout the time period.\n",
    "\n",
    "**Assessment approach:**\n",
    "\n",
    "Each time series will be explored individually to determine stationarity using both visual and statistical methods:\n",
    "\n",
    "- *Visual methods* include plotting the series to check for trends or changing variance, and analyzing autocorrelation (ACF) and partial autocorrelation (PACF) to see how correlations change over lags.\n",
    "- *Statistical methods* will utilize unit root tests such as the Augmented Dickey-Fuller (ADF) test and Kwiatkowski-Phillips-Schmidt-Shin (KPSS) test, which have complementary hypotheses on stationarity.\n",
    "\n",
    "Based on the stationarity results, appropriate transformations such as differencing or detrending will be applied to render the series stationary if necessary. This step is essential before selecting and fitting time series models, which will be chosen according to established criteria and patterns observed in the data.\n",
    "\n",
    "The goal of this methods section is to perform a rigorous, stepwise exploratory analysis of each series to ensure data suitability for modeling and to inform model selection.\n"
   ]
  },
  {
   "cell_type": "markdown",
   "id": "e4cc0620",
   "metadata": {},
   "source": [
    "## References"
   ]
  },
  {
   "cell_type": "markdown",
   "id": "695e6bcc",
   "metadata": {},
   "source": [
    "- Dickson, S. (2020). Association between the percentage of US drug sales subject to inflation penalties and the extent of drug price increases. *JAMA Network Open, 3*, e2016388. [https://doi.org/10.1001/jamanetworkopen.2020.16388](https://doi.org/10.1001/jamanetworkopen.2020.16388)\n",
    "- Dunn, A., Grosse, S., & Zuvekas, S. (2018). Adjusting health expenditures for inflation: A review of measures for health services research in the United States. *Health Services Research, 53*, 175–196. [https://doi.org/10.1111/1475-6773.12612](https://doi.org/10.1111/1475-6773.12612)\n",
    "- Mattingly, T. J. II, Anderson, G. F., Levy, J. F., & Mattingly, L. (2023). Comparison of price index methods and drug price inflation estimates for hepatitis C virus medications. *JAMA Health Forum, 4*. [https://doi.org/10.1001/jamahealthforum.2023.1317](https://doi.org/10.1001/jamahealthforum.2023.1317)\n",
    "- Rajkumar, V. (2020). The high cost of prescription drugs: Causes and solutions. *Blood Cancer Journal, 10*, 33. [https://doi.org/10.1038/s41408-020-0338-x](https://doi.org/10.1038/s41408-020-0338-x)\n",
    "- Reitsma, M., Dusetzina, S., Ballreich, J., Trujillo, A., & Mello, M. (2025). Estimated savings from extending prescription drug inflationary rebates to all commercial plans. *Health Affairs, 44*(3), 256–264. [https://doi.org/10.1377/hlthaff.2024.00724](https://doi.org/10.1377/hlthaff.2024.00724)\n",
    "- Schumock, G., Li, E., Wiest, M., Suda, K., Stubbings, J., Matusiak, L., Hunkler, R., & Vermeulen, L. (2017). National trends in prescription drug expenditures and projections for 2017. *American Journal of Health-System Pharmacy, 74*(15), 1158–1173. [https://doi.org/10.2146/ajhp170164](https://doi.org/10.2146/ajhp170164)\n",
    "- Shih, Y., Xu, Y., Liu, L., & Smieliauskas, F. (2017). Rising prices of targeted oral anticancer medications and associated financial burden on Medicare beneficiaries. *Journal of Clinical Oncology, 35*(22), 2482–2489. [https://doi.org/10.1200/JCO.2017.72.3742](https://doi.org/10.1200/JCO.2017.72.3742)\n",
    "- Tichy, E., Hoffman, J., Tadrous, M., Rim, M., Suda, K., Cuéllar, S., Clark, J., Newell, M., & Schumock, G. (2023). National trends in prescription drug expenditures and projections for 2023. *American Journal of Health-System Pharmacy*. [https://doi.org/10.1093/ajhp/zxad086](https://doi.org/10.1093/ajhp/zxad086)\n",
    "- Wagner, T., Westrich, K., Nordyke, R., & Campbell, J. (2024). Inflation-adjusted analysis of ICER’s unsupported price increase reports: Contextualizing drug spending changes. *Journal of Medical Economics, 27*, 1537–1541. [https://doi.org/10.1080/13696998.2024.2428109](https://doi.org/10.1080/13696998.2024.2428109)"
   ]
  }
 ],
 "metadata": {
  "kernelspec": {
   "display_name": ".venv",
   "language": "python",
   "name": "python3"
  },
  "language_info": {
   "name": "python",
   "version": "3.8.9"
  }
 },
 "nbformat": 4,
 "nbformat_minor": 5
}
